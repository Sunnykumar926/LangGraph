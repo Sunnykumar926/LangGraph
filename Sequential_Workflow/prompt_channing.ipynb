{
 "cells": [
  {
   "cell_type": "code",
   "execution_count": 1,
   "id": "a6d2b9af",
   "metadata": {},
   "outputs": [],
   "source": [
    "from langgraph.graph import StateGraph, START, END\n",
    "from langchain_openai import ChatOpenAI\n",
    "from dotenv import load_dotenv\n",
    "from typing import TypedDict"
   ]
  },
  {
   "cell_type": "code",
   "execution_count": 2,
   "id": "20ca35a2",
   "metadata": {},
   "outputs": [],
   "source": [
    "load_dotenv()\n",
    "model = ChatOpenAI()"
   ]
  },
  {
   "cell_type": "code",
   "execution_count": 3,
   "id": "6478a0a3",
   "metadata": {},
   "outputs": [],
   "source": [
    "class BlogState(TypedDict):\n",
    "    title: str\n",
    "    outline: str\n",
    "    content: str"
   ]
  },
  {
   "cell_type": "code",
   "execution_count": null,
   "id": "9e07a2a0",
   "metadata": {},
   "outputs": [],
   "source": [
    "def create_outline(state: BlogState) -> BlogState:\n",
    "    title = state['title']\n",
    "\n",
    "    # call llm gen outline\n",
    "    prompt = f'Generate a detailed outline for a blog on the topic - {title}'\n",
    "    outline = model.invoke(prompt).content\n",
    "\n",
    "    # update state\n",
    "    state['outline'] = outline\n",
    "\n",
    "    return state"
   ]
  },
  {
   "cell_type": "code",
   "execution_count": 32,
   "id": "a0bc1dcd",
   "metadata": {},
   "outputs": [],
   "source": [
    "def create_blog(state: BlogState)-> BlogState:\n",
    "    title=state['title']\n",
    "    outline=state['outline']\n",
    "\n",
    "    prompt = f'Create a blong on the title: {title} using the following outline \\n {outline}'\n",
    "    content = model.invoke(prompt).content\n",
    "    state['content']=content\n",
    "    return state"
   ]
  },
  {
   "cell_type": "code",
   "execution_count": 33,
   "id": "56ed08fc",
   "metadata": {},
   "outputs": [],
   "source": [
    "graph = StateGraph(BlogState)\n",
    "graph.add_node('create_outline', create_outline)\n",
    "graph.add_node('create_blog', create_blog)\n",
    "\n",
    "graph.add_edge(START, 'create_outline')\n",
    "graph.add_edge('create_outline', 'create_blog')\n",
    "graph.add_edge('create_blog', END)\n",
    "\n",
    "workflow = graph.compile()\n"
   ]
  },
  {
   "cell_type": "code",
   "execution_count": 34,
   "id": "590245ff",
   "metadata": {},
   "outputs": [
    {
     "name": "stdout",
     "output_type": "stream",
     "text": [
      "{'title': 'Rise of AI in India', 'outline': \"I. Introduction\\n    A. Definition of AI (Artificial Intelligence)\\n    B. Brief history of AI development in India\\n    C. Importance of AI in various industries\\n\\nII. Current Landscape of AI in India\\n    A. Overview of AI startups in India\\n    B. Government initiatives to promote AI adoption\\n    C. Major players in the AI industry in India\\n    D. Challenges faced by the AI industry in India\\n\\nIII. Growth and Impact of AI in India\\n    A. Role of AI in transforming sectors such as healthcare, finance, and e-commerce\\n    B. Job opportunities created by the rise of AI\\n    C. Ethical considerations surrounding AI implementation in India\\n    D. Benefits of AI for Indian society\\n\\nIV. Future Prospects of AI in India\\n    A. Predictions for the growth of the AI industry in India\\n    B. Potential areas for AI expansion in India\\n    C. Impact of AI on the Indian economy\\n    D. Challenges and opportunities for AI adoption in India\\n\\nV. Case Studies of Successful AI Implementation in India\\n    A. Tata Consultancy Services' AI solutions\\n    B. Mahindra Group's AI initiatives\\n    C. Healthcare startups leveraging AI technology in India\\n    D. E-commerce companies using AI for personalized customer experiences\\n\\nVI. Conclusion\\n    A. Recap of the rise of AI in India\\n    B. Importance of continued investment in AI research and development in India\\n    C. Final thoughts on the future of AI in India and its impact on society\", 'content': 'The Rise of AI in India\\n\\nI. Introduction\\n\\nA. Artificial Intelligence (AI) refers to the simulation of human intelligence processes by machines, especially computer systems. It involves learning, reasoning, and self-correction. \\nB. The development of AI in India dates back to the 1960s when the country started research in the field. \\nC. AI has become increasingly important in various industries due to its ability to automate tasks, analyze data, and make predictions.\\n\\nII. Current Landscape of AI in India\\n\\nA. India has seen a surge in AI startups in recent years, with companies focusing on areas such as healthcare, finance, and e-commerce. \\nB. The government has taken steps to promote AI adoption through initiatives like the National Artificial Intelligence Mission. \\nC. Major players in the AI industry in India include companies like Wipro, Infosys, and Tech Mahindra. \\nD. Challenges faced by the AI industry in India include data privacy concerns, lack of skilled AI professionals, and regulatory hurdles.\\n\\nIII. Growth and Impact of AI in India\\n\\nA. AI has the potential to transform sectors such as healthcare by improving diagnostics, finance by enhancing risk management, and e-commerce by personalizing customer experiences. \\nB. The rise of AI has also created job opportunities in fields like data science, machine learning, and AI research. \\nC. Ethical considerations surrounding AI implementation in India include bias in AI algorithms, data security, and accountability. \\nD. Benefits of AI for Indian society include improved healthcare outcomes, financial inclusion, and enhanced customer experiences.\\n\\nIV. Future Prospects of AI in India\\n\\nA. The AI industry in India is expected to grow rapidly in the coming years, with a projected market size of over $10 billion by 2025. \\nB. Potential areas for AI expansion in India include agriculture, education, and governance. \\nC. AI is expected to have a significant impact on the Indian economy by boosting productivity, creating new jobs, and driving innovation. \\nD. Challenges and opportunities for AI adoption in India include the need for regulatory frameworks, investment in research and development, and upskilling of the workforce.\\n\\nV. Case Studies of Successful AI Implementation in India\\n\\nA. Tata Consultancy Services (TCS) has developed AI solutions for various industries, including healthcare, banking, and retail. \\nB. Mahindra Group has launched AI initiatives in areas like agriculture, mobility, and sustainability. \\nC. Healthcare startups in India are leveraging AI technology to improve patient care, diagnostics, and treatment outcomes. \\nD. E-commerce companies like Flipkart and Amazon are using AI for personalized recommendations, fraud detection, and supply chain optimization.\\n\\nVI. Conclusion\\n\\nA. The rise of AI in India presents significant opportunities for economic growth, job creation, and societal development. \\nB. Continued investment in AI research and development is crucial for India to remain competitive in the global AI market. \\nC. The future of AI in India looks promising, with the potential to address key challenges facing the country and improve the quality of life for its citizens.'}\n"
     ]
    }
   ],
   "source": [
    "intial_state = {'title': 'Rise of AI in India'}\n",
    "\n",
    "final_state = workflow.invoke(intial_state)\n",
    "\n",
    "print(final_state)"
   ]
  },
  {
   "cell_type": "code",
   "execution_count": 36,
   "id": "ab5d41f9",
   "metadata": {},
   "outputs": [
    {
     "name": "stdout",
     "output_type": "stream",
     "text": [
      "I. Introduction\n",
      "    A. Definition of AI (Artificial Intelligence)\n",
      "    B. Brief history of AI development in India\n",
      "    C. Importance of AI in various industries\n",
      "\n",
      "II. Current Landscape of AI in India\n",
      "    A. Overview of AI startups in India\n",
      "    B. Government initiatives to promote AI adoption\n",
      "    C. Major players in the AI industry in India\n",
      "    D. Challenges faced by the AI industry in India\n",
      "\n",
      "III. Growth and Impact of AI in India\n",
      "    A. Role of AI in transforming sectors such as healthcare, finance, and e-commerce\n",
      "    B. Job opportunities created by the rise of AI\n",
      "    C. Ethical considerations surrounding AI implementation in India\n",
      "    D. Benefits of AI for Indian society\n",
      "\n",
      "IV. Future Prospects of AI in India\n",
      "    A. Predictions for the growth of the AI industry in India\n",
      "    B. Potential areas for AI expansion in India\n",
      "    C. Impact of AI on the Indian economy\n",
      "    D. Challenges and opportunities for AI adoption in India\n",
      "\n",
      "V. Case Studies of Successful AI Implementation in India\n",
      "    A. Tata Consultancy Services' AI solutions\n",
      "    B. Mahindra Group's AI initiatives\n",
      "    C. Healthcare startups leveraging AI technology in India\n",
      "    D. E-commerce companies using AI for personalized customer experiences\n",
      "\n",
      "VI. Conclusion\n",
      "    A. Recap of the rise of AI in India\n",
      "    B. Importance of continued investment in AI research and development in India\n",
      "    C. Final thoughts on the future of AI in India and its impact on society\n"
     ]
    }
   ],
   "source": [
    "print(final_state['outline'])"
   ]
  },
  {
   "cell_type": "code",
   "execution_count": 37,
   "id": "78e79f1a",
   "metadata": {},
   "outputs": [
    {
     "name": "stdout",
     "output_type": "stream",
     "text": [
      "The Rise of AI in India\n",
      "\n",
      "I. Introduction\n",
      "\n",
      "A. Artificial Intelligence (AI) refers to the simulation of human intelligence processes by machines, especially computer systems. It involves learning, reasoning, and self-correction. \n",
      "B. The development of AI in India dates back to the 1960s when the country started research in the field. \n",
      "C. AI has become increasingly important in various industries due to its ability to automate tasks, analyze data, and make predictions.\n",
      "\n",
      "II. Current Landscape of AI in India\n",
      "\n",
      "A. India has seen a surge in AI startups in recent years, with companies focusing on areas such as healthcare, finance, and e-commerce. \n",
      "B. The government has taken steps to promote AI adoption through initiatives like the National Artificial Intelligence Mission. \n",
      "C. Major players in the AI industry in India include companies like Wipro, Infosys, and Tech Mahindra. \n",
      "D. Challenges faced by the AI industry in India include data privacy concerns, lack of skilled AI professionals, and regulatory hurdles.\n",
      "\n",
      "III. Growth and Impact of AI in India\n",
      "\n",
      "A. AI has the potential to transform sectors such as healthcare by improving diagnostics, finance by enhancing risk management, and e-commerce by personalizing customer experiences. \n",
      "B. The rise of AI has also created job opportunities in fields like data science, machine learning, and AI research. \n",
      "C. Ethical considerations surrounding AI implementation in India include bias in AI algorithms, data security, and accountability. \n",
      "D. Benefits of AI for Indian society include improved healthcare outcomes, financial inclusion, and enhanced customer experiences.\n",
      "\n",
      "IV. Future Prospects of AI in India\n",
      "\n",
      "A. The AI industry in India is expected to grow rapidly in the coming years, with a projected market size of over $10 billion by 2025. \n",
      "B. Potential areas for AI expansion in India include agriculture, education, and governance. \n",
      "C. AI is expected to have a significant impact on the Indian economy by boosting productivity, creating new jobs, and driving innovation. \n",
      "D. Challenges and opportunities for AI adoption in India include the need for regulatory frameworks, investment in research and development, and upskilling of the workforce.\n",
      "\n",
      "V. Case Studies of Successful AI Implementation in India\n",
      "\n",
      "A. Tata Consultancy Services (TCS) has developed AI solutions for various industries, including healthcare, banking, and retail. \n",
      "B. Mahindra Group has launched AI initiatives in areas like agriculture, mobility, and sustainability. \n",
      "C. Healthcare startups in India are leveraging AI technology to improve patient care, diagnostics, and treatment outcomes. \n",
      "D. E-commerce companies like Flipkart and Amazon are using AI for personalized recommendations, fraud detection, and supply chain optimization.\n",
      "\n",
      "VI. Conclusion\n",
      "\n",
      "A. The rise of AI in India presents significant opportunities for economic growth, job creation, and societal development. \n",
      "B. Continued investment in AI research and development is crucial for India to remain competitive in the global AI market. \n",
      "C. The future of AI in India looks promising, with the potential to address key challenges facing the country and improve the quality of life for its citizens.\n"
     ]
    }
   ],
   "source": [
    "print(final_state['content'])"
   ]
  },
  {
   "cell_type": "code",
   "execution_count": null,
   "id": "57b7f6ce",
   "metadata": {},
   "outputs": [],
   "source": []
  }
 ],
 "metadata": {
  "kernelspec": {
   "display_name": "my_env",
   "language": "python",
   "name": "python3"
  },
  "language_info": {
   "codemirror_mode": {
    "name": "ipython",
    "version": 3
   },
   "file_extension": ".py",
   "mimetype": "text/x-python",
   "name": "python",
   "nbconvert_exporter": "python",
   "pygments_lexer": "ipython3",
   "version": "3.11.9"
  }
 },
 "nbformat": 4,
 "nbformat_minor": 5
}
